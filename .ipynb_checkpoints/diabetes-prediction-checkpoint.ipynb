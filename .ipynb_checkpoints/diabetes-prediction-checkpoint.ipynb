{
 "cells": [
  {
   "cell_type": "markdown",
   "metadata": {},
   "source": [
    "Here are my other notebooks....Do checkout if you find my work helpful, happy learning.\n",
    "\n",
    "1.[Predicting If Customer will borrow Personal Loan ](http://www.kaggle.com/yogidsba/personal-loan-logistic-regression-decision-tree)\n",
    "\n",
    "2.[Predict Prices of Used cars](https://www.kaggle.com/yogidsba/predict-used-car-prices-linearregression)\n",
    "\n",
    "3.[Insurance Claim Hypothesis Testing](http://www.kaggle.com/yogidsba/insurance-claims-eda-hypothesis-testing)\n",
    "\n",
    "4.[Basic EDA on Covid vaccination](http://www.kaggle.com/yogidsba/basic-eda-on-covid-vaccination)\n",
    "\n",
    "5.[Pandas Tutorial](http://www.kaggle.com/yogidsba/pandas-function-and-data-analysis)\n",
    "\n",
    "6.[Case study EDA on cardio good fitness](http://www.kaggle.com/yogidsba/casestudy-eda-for-cardio-good-fitness)"
   ]
  },
  {
   "cell_type": "markdown",
   "metadata": {},
   "source": [
    "**Table of Contents**\n",
    "    \n",
    "- [Problem Statement](#Problem-Statement) \n",
    "- [Data Set](#Data-Set)\n",
    "- [Question](#Questions)\n",
    "- [Read and Understand Data](#Read-and-Understand-Data)\n",
    "- [Exploratory Data Analysis](#Exploratory-Data-Analysis) \n",
    "    - [Univariate Analysis](#Univariate-Analysis) \n",
    "    - [Bivariate and Multivariate Analysis](#Bivariate-&-Multivariate-Analysis) \n",
    "- [Insights based on EDA](#Insights-based-on-EDA)\n",
    "- [Model Building](#Model-building)\n",
    "- [Conclusion](#Conclusion) \n",
    "\n"
   ]
  },
  {
   "cell_type": "markdown",
   "metadata": {},
   "source": [
    "# Problem Statement\n",
    "Diabetes is one of the most frequent diseases worldwide and the number of diabetic patients is growing over the years. The main cause of diabetes remains unknown, yet scientists believe that both genetic factors and environmental lifestyle play a major role in diabetes. \n",
    "\n",
    "Individuals with diabetes face a risk of developing some secondary health issues such as heart diseases and nerve damage. Thus, early detection and treatment of diabetes can prevent complications and assist in reducing the risk of severe health problems. \n",
    "Even though it's incurable, it can be managed by treatment and medication.\n",
    "\n",
    "**Motivation :- As a person who suffered from gestational diabetes I want to get better understanding of this disease among women and use machine learning models to identify patients who are at risk of diabetes.**\n",
    "\n",
    "**This week I started learning about Ensemble techniques so trying to use them**\n"
   ]
  },
  {
   "cell_type": "markdown",
   "metadata": {},
   "source": [
    "# Objective:\n",
    "\n",
    "To build a model to predict whether an individual is at risk of diabetes or not."
   ]
  },
  {
   "cell_type": "markdown",
   "metadata": {},
   "source": [
    "# DataSet Description:\n",
    "\n",
    "* Pregnancies: Number of times pregnant\n",
    "* Glucose: Plasma glucose concentration over 2 hours in an oral glucose tolerance test\n",
    "* BloodPressure: Diastolic blood pressure (mm Hg)\n",
    "* SkinThickness: Triceps skinfold thickness (mm)\n",
    "* Insulin: 2-Hour serum insulin (mu U/ml)\n",
    "* BMI: Body mass index (weight in kg/(height in m)^2)\n",
    "* Pedigree: Diabetes pedigree function - A function that scores likelihood of diabetes based on family history.\n",
    "* Age: Age in years\n",
    "* Class: Class variable (0: the person is not diabetic or 1: the person is diabetic)"
   ]
  },
  {
   "cell_type": "markdown",
   "metadata": {},
   "source": [
    "# Questions\n",
    "1. What are the factors that affect the likelihood of diabetes?\n",
    "2. Does family history of diabetes , can increases chances of daibetes in patients.?\n",
    "3. As number of pregnancies increase , does it increase chances of women getting diabetes.?\n",
    "4. Is diabetes more prevalent in women who are obese.?"
   ]
  },
  {
   "cell_type": "code",
   "execution_count": null,
   "metadata": {},
   "outputs": [],
   "source": [
    "# Library to suppress warnings or deprecation notes \n",
    "import warnings\n",
    "warnings.filterwarnings('ignore')\n",
    "\n",
    "# Libraries to help with reading and manipulating data\n",
    "import numpy as np\n",
    "import pandas as pd\n",
    "\n",
    "# Libraries to help with data visualization\n",
    "import matplotlib.pyplot as plt\n",
    "%matplotlib inline\n",
    "import seaborn as sns\n",
    "\n",
    "# Library to split data \n",
    "from sklearn.model_selection import train_test_split\n",
    "\n",
    "# Libraries to import decision tree classifier and different ensemble classifiers\n",
    "from sklearn.ensemble import BaggingClassifier\n",
    "from sklearn.ensemble import RandomForestClassifier\n",
    "from sklearn.tree import DecisionTreeClassifier\n",
    "from sklearn import tree\n",
    "\n",
    "# Libtune to tune model, get different metric scores\n",
    "from sklearn import metrics\n",
    "from sklearn.metrics import  classification_report, accuracy_score, precision_score, recall_score,f1_score\n",
    "from sklearn.model_selection import GridSearchCV\n",
    "from sklearn.metrics import confusion_matrix,ConfusionMatrixDisplay,plot_confusion_matrix #to plot confusion matric\n",
    "plt.style.use('ggplot')\n",
    "print('Load Libraries-Done')"
   ]
  },
  {
   "cell_type": "markdown",
   "metadata": {
    "id": "a9ZMNfUNhU14"
   },
   "source": [
    "# Read and Understand Data"
   ]
  },
  {
   "cell_type": "code",
   "execution_count": null,
   "metadata": {},
   "outputs": [],
   "source": [
    "#Reading the csv file  used car data.csv \n",
    "pima = pd.read_csv('diabetes.csv')\n",
    "# Lets make a copy of the dataset for use within the notebook to avoid changing the original\n",
    "data = pima.copy()"
   ]
  },
  {
   "cell_type": "code",
   "execution_count": null,
   "metadata": {},
   "outputs": [],
   "source": [
    "#View the first and last 5 rows of the dataset.\n",
    "data.head()"
   ]
  },
  {
   "cell_type": "code",
   "execution_count": null,
   "metadata": {},
   "outputs": [],
   "source": [
    "#Check datatype\n",
    "data.info()"
   ]
  },
  {
   "cell_type": "code",
   "execution_count": null,
   "metadata": {},
   "outputs": [],
   "source": [
    "print (\"#\"*40,\"\\n\",\"Features : \\n\\n\", data.columns.tolist()) #get name of columns/features\n",
    "print (\"#\"*40,\"\\nMissing values :\\n\\n\", data.isnull().sum().sort_values(ascending=False))\n",
    "print (\"#\"*40,\"\\nUnique values :  \\n\\n\", data.nunique())  #  count of unique values\n"
   ]
  },
  {
   "cell_type": "markdown",
   "metadata": {
    "id": "X2X_FLxThU2q"
   },
   "source": [
    "**Observations**\n",
    "* All variables are integer or float types.\n",
    "* There are no missing  values in the dataset.\n",
    "* Outcome is our Target Variable.\n"
   ]
  },
  {
   "cell_type": "code",
   "execution_count": null,
   "metadata": {},
   "outputs": [],
   "source": [
    "# Summary of the dataset.\n",
    "data.describe().T"
   ]
  },
  {
   "cell_type": "markdown",
   "metadata": {},
   "source": [
    "**Observations** \n",
    "* Data set contains women with an average of `4 `pregnancies and maximum of `17.`\n",
    "* Features like Glucose, BloodPressure, SkinThickness, and Insulin have minimum values as 0 which might be data input errors and  should explore it further.\n",
    "* Difference between maximum value for features like SkinThickness, Insulin and Age and 3rd quartile which suggest ,there might be outliers present in the data.\n",
    "* Average age of women in the dataset is`33` years and median is`29`."
   ]
  },
  {
   "cell_type": "markdown",
   "metadata": {
    "id": "kUJ_B5KxhU3D"
   },
   "source": [
    "# Exploratory Data Analysis"
   ]
  },
  {
   "cell_type": "markdown",
   "metadata": {
    "id": "7Rwx-1ZuhU3D"
   },
   "source": [
    "### Univariate analysis"
   ]
  },
  {
   "cell_type": "code",
   "execution_count": null,
   "metadata": {},
   "outputs": [],
   "source": [
    "def dist_box(data):\n",
    " # function plots a combined graph for univariate analysis of continous variable \n",
    " #to check spread, central tendency , dispersion and outliers  \n",
    "    Name=data.name.upper()\n",
    "    fig,(ax_box,ax_dis)  =plt.subplots(nrows=2,sharex=True,gridspec_kw = {\"height_ratios\": (.25, .75)},figsize=(8, 5))\n",
    "    mean=data.mean()\n",
    "    median=data.median()\n",
    "    mode=data.mode().tolist()[0]\n",
    "    sns.set_theme(style=\"white\")\n",
    "    sns.set_palette(sns.color_palette(\"Set1\", 8))\n",
    "    fig.suptitle(\"SPREAD OF DATA FOR \"+ Name  , fontsize=18, fontweight='bold')\n",
    "    sns.boxplot(x=data,showmeans=True, orient='h',ax=ax_box)\n",
    "    ax_box.set(xlabel='')\n",
    "     # just trying to make visualisation better. This will set background to white\n",
    "    sns.despine(top=True,right=True,left=True) # to remove side line from graph\n",
    "    sns.set_palette(sns.color_palette(\"Set1\", 8))\n",
    "    sns.distplot(data,kde=False,ax=ax_dis)\n",
    "    ax_dis.axvline(mean, color='r', linestyle='--',linewidth=2)\n",
    "    ax_dis.axvline(median, color='g', linestyle='-',linewidth=2)\n",
    "    ax_dis.axvline(mode, color='y', linestyle='-',linewidth=2)\n",
    "    plt.legend({'Mean':mean,'Median':median,'Mode':mode})\n",
    "                    "
   ]
  },
  {
   "cell_type": "code",
   "execution_count": null,
   "metadata": {},
   "outputs": [],
   "source": [
    "#select all quantitative columns for checking the spread\n",
    "list_col= data.select_dtypes(include='number').columns.to_list()\n",
    "for i in range(len(list_col)):\n",
    "    dist_box(data[list_col[i]])"
   ]
  },
  {
   "cell_type": "markdown",
   "metadata": {},
   "source": [
    "\n"
   ]
  },
  {
   "cell_type": "markdown",
   "metadata": {},
   "source": [
    "**Observations**\n",
    "* Number of pregnancies is right-skewed.The boxplot shows that there are few outliers to the right. \n",
    "* Plasma glucode is normally distrubted.0 value is an outlier for this variable. \n",
    "* The distribution for blood pressure looks fairy normal except few outliers evident from the boxplot. We can see are some observations with 0 blood pressure but a 0 value of blood pressure is not possible and we should treat the 0 value as missing data.Most of the women have normal blood pressure.\n",
    "* There are one extreme value of 99 in Skin thickness, many value with 0 value of skin thicknessand we should treat the 0 values as missing data.\n",
    "* Insulin is right-skewed. There are some outliers to the right  A 0 value in insulin is not possible. We should treat the 0 values as missing data.75% of women have less than 127 mu U/ml of insulin concentration and an average of 80 mu U/ml.\n",
    "* BMI is normally distributed with the mean and median of approximately 32.There are some outliers in this variable. A 0 value in mass is not possible we should treat the 0 values as missing data.\n",
    "* Diabetes pedigree function  is skewed to the right and there are some outliers in this variable.\n",
    "* Age is right-skewed.There are outliers on higher end. "
   ]
  },
  {
   "cell_type": "markdown",
   "metadata": {},
   "source": [
    "### Observations on Class"
   ]
  },
  {
   "cell_type": "code",
   "execution_count": null,
   "metadata": {},
   "outputs": [],
   "source": [
    "# Making a list of all categorical variables\n",
    "cat_columns = ['Pregnancies','Outcome']\n",
    "title=['Number of Pregancies','Outcome']\n",
    "plt.figure(figsize=(15,7))\n",
    "\n",
    "sns.set_theme(style=\"white\") # just trying to make visualisation better. This will set background to white\n",
    "for i, variable in enumerate(cat_columns):\n",
    "                     plt.subplot(1,2,i+1)\n",
    "                     order = data[variable].value_counts(ascending=False).index   \n",
    "                     #sns.set_palette(list_palette[i]) # to set the palette\n",
    "                     sns.set_palette('Set1')\n",
    "                     ax=sns.countplot(x=data[variable], data=data )\n",
    "                     sns.despine(top=True,right=True,left=True) # to remove side line from graph\n",
    "                     for p in ax.patches:\n",
    "                           percentage = '{:.1f}%'.format(100 * p.get_height()/len(data[variable]))\n",
    "                           x = p.get_x() + p.get_width() / 2 - 0.05\n",
    "                           y = p.get_y() + p.get_height()\n",
    "                           plt.annotate(percentage, (x, y),ha='center')\n",
    "                     plt.tight_layout()\n",
    "                     plt.title(title[i].upper())\n",
    "                                     \n"
   ]
  },
  {
   "cell_type": "markdown",
   "metadata": {},
   "source": [
    "**Observations**\n",
    "* The data is slightly imbalanced as there are only ~35% of the women in data who are diabetic and ~65% of women who are not diabetic.\n",
    "* The most common number of pregnancies amongst women is 1.\n",
    "* Surprisingly, there are many observations with more than 10 pregnancies."
   ]
  },
  {
   "cell_type": "markdown",
   "metadata": {
    "id": "beo_tDmVhU3-"
   },
   "source": [
    "### Bivariate Analysis"
   ]
  },
  {
   "cell_type": "code",
   "execution_count": null,
   "metadata": {},
   "outputs": [],
   "source": [
    "sns.set_palette(sns.color_palette(\"Set1\", 8))\n",
    "plt.figure(figsize=(15,7))\n",
    "sns.heatmap(data.corr(),annot=True,vmin=-1,vmax=1,cmap='viridis')\n",
    "plt.show()"
   ]
  },
  {
   "cell_type": "code",
   "execution_count": null,
   "metadata": {},
   "outputs": [],
   "source": [
    "sns.set_palette(sns.color_palette(\"Set1\", 8))\n",
    "sns.pairplot(data=data,hue=\"Outcome\",corner=True)\n",
    "plt.show()"
   ]
  },
  {
   "cell_type": "markdown",
   "metadata": {},
   "source": [
    "**Observations**\n",
    "* Outcome variable class shows a moderate correlation with 'Glucose'.\n",
    "* There is a positive correlation between age and number of pregnancies which makes sense.\n",
    "* Insulin and skin thickness also shows a moderate positive correlation.\n",
    "* We can see that most non-diabetic persons have glucose concentration<=100 and BMI<30 \n",
    "* However, there are overlapping distributions for diabetic and non-diabetic persons. We should investigate it further."
   ]
  },
  {
   "cell_type": "code",
   "execution_count": null,
   "metadata": {},
   "outputs": [],
   "source": [
    "discrete = []\n",
    "for column in data.columns:\n",
    "    if data[column].dtypes != 'object':\n",
    "        if data[column].nunique() >= 10:\n",
    "            discrete.append(column)\n",
    "discrete"
   ]
  },
  {
   "cell_type": "code",
   "execution_count": null,
   "metadata": {},
   "outputs": [],
   "source": [
    "numerical = []\n",
    "for column in data.columns:\n",
    "    if data[column].dtypes != 'object':\n",
    "        if data[column].nunique() >= 10:\n",
    "            numerical.append(column)\n",
    "numerical"
   ]
  },
  {
   "cell_type": "code",
   "execution_count": null,
   "metadata": {},
   "outputs": [],
   "source": [
    "numerical = ['Pregnancies', 'Glucose', 'BloodPressure', 'SkinThickness', 'Insulin','BMI', 'DiabetesPedigreeFunction', 'Age']\n",
    "plt.figure(figsize=(15,25))\n",
    "\n",
    "sns.set_palette(sns.color_palette(\"Set1\", 8))\n",
    "for i, variable in enumerate(numerical):\n",
    "        plt.subplot(10,3,i+1)\n",
    "        \n",
    "        sns.boxplot(x='Outcome',y= data[variable], data=data)     \n",
    "        sns.despine(top=True,right=True,left=True) # to remove side line from graph\n",
    "        plt.tight_layout()\n",
    "        plt.title(variable.upper())"
   ]
  },
  {
   "cell_type": "markdown",
   "metadata": {},
   "source": [
    "**Observation**\n",
    "* There is not much difference between the blood pressure levels of a diabetic and a non-diabetic person.\n",
    "* There is one outlier with very high skin thickness in diabetic patients\n",
    "* Skin thickness  doesn't  seem to significant in likelihood of diabetes."
   ]
  },
  {
   "cell_type": "markdown",
   "metadata": {},
   "source": [
    "## Insights based on EDA"
   ]
  },
  {
   "cell_type": "markdown",
   "metadata": {
    "execution": {
     "iopub.execute_input": "2021-06-05T04:00:50.272536Z",
     "iopub.status.busy": "2021-06-05T04:00:50.272027Z",
     "iopub.status.idle": "2021-06-05T04:00:50.281653Z",
     "shell.execute_reply": "2021-06-05T04:00:50.280565Z",
     "shell.execute_reply.started": "2021-06-05T04:00:50.272487Z"
    }
   },
   "source": [
    "* Diabetes is more prominent in women with more pregnancies.\n",
    "* Higher plasma glucose concentration is seen in Women with diabetes. \n",
    "* Higher levels of insulin is found in women having diabetes.\n",
    "* Women  with diabetes have higher BMI.\n",
    "* Diabetic women have higher diabetes pedigree function value suggesting family history matters.\n",
    "* Age does play an important role,Diabetes is more prominent in middle age to older aged women.\n",
    "* Skin thickness doesnt seem to play any significant role in likelihood of diabetes."
   ]
  },
  {
   "cell_type": "markdown",
   "metadata": {},
   "source": [
    "\n"
   ]
  },
  {
   "cell_type": "markdown",
   "metadata": {},
   "source": [
    "### Handling Missing value \n",
    "Glucose, Blood pressure, SkinThickness , Insulin ,BMI had  0 values replacing them  by median of the respective variable"
   ]
  },
  {
   "cell_type": "code",
   "execution_count": null,
   "metadata": {},
   "outputs": [],
   "source": [
    "data.loc[data.Glucose == 0, 'Glucose'] = data.Glucose.median()\n",
    "data.loc[data.BloodPressure == 0, 'BloodPressure'] = data.BloodPressure.median()\n",
    "data.loc[data.SkinThickness == 0, 'SkinThickness'] = data.SkinThickness.median()\n",
    "data.loc[data.Insulin == 0, 'Insulin'] = data.Insulin.median()\n",
    "data.loc[data.BMI == 0, 'BMI'] = data.BMI.median()"
   ]
  },
  {
   "cell_type": "markdown",
   "metadata": {
    "id": "0L-oAMItxLP-"
   },
   "source": [
    "## Split Data"
   ]
  },
  {
   "cell_type": "code",
   "execution_count": null,
   "metadata": {
    "id": "RcvtsOOulKu4"
   },
   "outputs": [],
   "source": [
    "X = data.drop('Outcome',axis=1)\n",
    "y = data['Outcome'] "
   ]
  },
  {
   "cell_type": "code",
   "execution_count": null,
   "metadata": {
    "id": "JqVHLEHVRRKK",
    "outputId": "c05575bb-cda5-4b49-d6dd-3f6c8cb0678e"
   },
   "outputs": [],
   "source": [
    "# Splitting data into training and test set:\n",
    "#The Stratify arguments maintains the original distribution of classes in the target variable while splitting the data into train and test sets.**\n",
    "X_train, X_test, y_train, y_test = train_test_split(X, y, test_size=0.3, random_state=1,stratify=y)\n",
    "print(X_train.shape, X_test.shape)"
   ]
  },
  {
   "cell_type": "code",
   "execution_count": null,
   "metadata": {
    "scrolled": true
   },
   "outputs": [],
   "source": [
    "y.value_counts(0)"
   ]
  },
  {
   "cell_type": "code",
   "execution_count": null,
   "metadata": {},
   "outputs": [],
   "source": [
    "y.value_counts(1)"
   ]
  },
  {
   "cell_type": "code",
   "execution_count": null,
   "metadata": {},
   "outputs": [],
   "source": [
    "y_test.value_counts(0)"
   ]
  },
  {
   "cell_type": "code",
   "execution_count": null,
   "metadata": {},
   "outputs": [],
   "source": [
    "y_test.value_counts(1)"
   ]
  },
  {
   "cell_type": "code",
   "execution_count": null,
   "metadata": {},
   "outputs": [],
   "source": [
    "from sklearn.preprocessing import StandardScaler\n",
    "# Creating StandardScaler instance\n",
    "scaler = StandardScaler()\n",
    "\n",
    "# Fitting Standard Scaller\n",
    "X_scaler = scaler.fit(X_train)\n",
    "\n",
    "# Scaling data\n",
    "X_train_scaled = X_scaler.transform(X_train)\n",
    "X_test_scaled = X_scaler.transform(X_test)\n",
    "\n",
    "X_train_scaled_df = pd.DataFrame(X_train_scaled,columns=X_train.columns)\n",
    "X_test_scaled_df = pd.DataFrame(X_test_scaled,columns=X_test.columns)\n",
    "\n",
    "\n",
    "X_train_scaled_df.index=np.arange(len(X_train_scaled_df))\n",
    "X_test_scaled_df.index=np.arange(len(X_test_scaled_df))\n",
    "y_train.index=np.arange(len(y_train))\n",
    "y_test.index=np.arange(len(y_test))\n"
   ]
  },
  {
   "cell_type": "markdown",
   "metadata": {},
   "source": [
    "## Model evaluation criterion\n",
    "\n",
    "### Model can make wrong predictions as:\n",
    "1. Predicting a person doesn't have diabetes when in reality the person has diabetes.[False Negative, undiagnosed illness]\n",
    "2. Predicting a person has diabetes, when in reality the person doesn't have diabetes.[False Postive, require more Testing]\n",
    "\n",
    "### Which case is more important? \n",
    "* Predicting a person doesn't have diabetes, when in reality the person has diabetes is a bigger risk.The person will go undiagnosed resulting into severe helath impact.\n",
    "\n",
    "### Which metric to optimize?\n",
    "* We would want Recall to be maximized, the greater the Recall higher the chances of minimizing false negatives because if a model predicts that a person is at risk of diabetes and in reality, that person doesn't have diabetes then that person can go through further levels of testing to confirm whether the person is actually at risk of diabetes but if we predict that a person is not at risk of diabetes when in reality  the person is at risk of diabetes then that person will go undiagnosed and this would lead to further health problems."
   ]
  },
  {
   "cell_type": "code",
   "execution_count": null,
   "metadata": {},
   "outputs": [],
   "source": [
    "def make_confusion_matrix(y_actual,y_predict,title):\n",
    "    fig, ax = plt.subplots(1, 1)\n",
    "    \n",
    "    cm = confusion_matrix(y_actual, y_predict, labels=[0,1])\n",
    "    disp = ConfusionMatrixDisplay(confusion_matrix=cm,\n",
    "                               display_labels=[\"No\",\"Yes\"])\n",
    "    disp.plot(cmap='Reds' ,ax=ax)\n",
    "    ax.set_title(title)\n",
    "    plt.tick_params(axis=u'both', which=u'both',length=0)\n",
    "    plt.grid(b=None,axis='both',which='both',visible=False)\n",
    "    plt.show()"
   ]
  },
  {
   "cell_type": "code",
   "execution_count": null,
   "metadata": {},
   "outputs": [],
   "source": [
    "##  Function to calculate different metric scores of the model - Accuracy, Recall and Precision\n",
    "def get_metrics_score(model,X_train_df,X_test_df,y_train_pass,y_test_pass,flag=True):\n",
    "    '''\n",
    "    model : classifier to predict values of X\n",
    "    '''\n",
    "    # defining an empty list to store train and test results\n",
    "    score_list=[] \n",
    "    pred_train = model.predict(X_train_df)\n",
    "    pred_test = model.predict(X_test_df)\n",
    "    pred_train = np.round(pred_train)\n",
    "    pred_test = np.round(pred_test)\n",
    "    train_acc = accuracy_score(y_train_pass,pred_train)\n",
    "    test_acc = accuracy_score(y_test_pass,pred_test)\n",
    "    train_recall = recall_score(y_train_pass,pred_train)\n",
    "    test_recall = recall_score(y_test_pass,pred_test)\n",
    "    train_precision = precision_score(y_train_pass,pred_train)\n",
    "    test_precision = precision_score(y_test_pass,pred_test)\n",
    "    train_f1 = f1_score(y_train_pass,pred_train)\n",
    "    test_f1 = f1_score(y_test_pass,pred_test)\n",
    "    score_list.extend((train_acc,test_acc,train_recall,test_recall,train_precision,test_precision,train_f1,test_f1))\n",
    "      \n",
    "    if flag == True: \n",
    "        print(\"\\x1b[0;30;47m \\033[1mMODEL PERFORMANCE\\x1b[0m\")\n",
    "        print(\"\\x1b[0;30;47m \\033[1mAccuracy   : Train:\\x1b[0m\",round(train_acc,3),\n",
    "              \"\\x1b[0;30;47m \\033[1mTest:\\x1b[0m \",round(test_acc,3))\n",
    "        print(\"\\x1b[0;30;47m \\033[1mRecall     : Train:\\x1b[0m\",round(train_recall,3),\n",
    "              \"\\x1b[0;30;47m \\033[1mTest:\\x1b[0m\" , round(test_recall,3))\n",
    "        \n",
    "        print(\"\\x1b[0;30;47m \\033[1mPrecision  : Train:\\x1b[0m\", round(train_precision,3),\n",
    "              \"\\x1b[0;30;47m \\033[1mTest:\\x1b[0m \", round(test_precision,3))\n",
    "        print(\"\\x1b[0;30;47m \\033[1mF1         : Train:\\x1b[0m\",round(train_f1,3),\n",
    "              \"\\x1b[0;30;47m \\033[1mTest:\\x1b[0m\", round(test_f1,3))\n",
    "        make_confusion_matrix(y_train_pass,pred_train,\"Confusion Matrix for Train\")     \n",
    "        make_confusion_matrix(y_test_pass,pred_test,\"Confusion Matrix for Test\") \n",
    "    return score_list # returning the list with train and test scores"
   ]
  },
  {
   "cell_type": "code",
   "execution_count": null,
   "metadata": {},
   "outputs": [],
   "source": [
    "# # defining empty lists to add train and test results\n",
    "acc_train = []\n",
    "acc_test = []\n",
    "recall_train = []\n",
    "recall_test = []\n",
    "precision_train = []\n",
    "precision_test = []\n",
    "f1_train = []\n",
    "f1_test = []\n",
    "\n",
    "def add_score_model(score):\n",
    "     '''Add score to list for comparision'''  \n",
    "     acc_train.append(score[0])\n",
    "     acc_test.append(score[1])\n",
    "     recall_train.append(score[2])\n",
    "     recall_test.append(score[3])\n",
    "     precision_train.append(score[4])\n",
    "     precision_test.append(score[5])\n",
    "     f1_train.append(score[6])\n",
    "     f1_test.append(score[7])"
   ]
  },
  {
   "cell_type": "markdown",
   "metadata": {},
   "source": [
    "# Model building"
   ]
  },
  {
   "cell_type": "markdown",
   "metadata": {},
   "source": [
    "### Decision Tree"
   ]
  },
  {
   "cell_type": "code",
   "execution_count": null,
   "metadata": {},
   "outputs": [],
   "source": [
    "#Fitting the model\n",
    "d_tree = DecisionTreeClassifier(random_state=1)\n",
    "d_tree.fit(X_train_scaled_df, y_train)\n",
    "\n",
    "#Calculating different metrics\n",
    "score_list_dt = get_metrics_score(d_tree, X_train_scaled_df, X_test_scaled_df, y_train, y_test)"
   ]
  },
  {
   "cell_type": "code",
   "execution_count": null,
   "metadata": {},
   "outputs": [],
   "source": [
    "add_score_model(score_list_dt)"
   ]
  },
  {
   "cell_type": "markdown",
   "metadata": {},
   "source": [
    "* Decision tree is overfitting the training data as there is huge disparity between training and test scores for all the metrics.\n",
    "* The test recall is very low i.e. only 58%."
   ]
  },
  {
   "cell_type": "markdown",
   "metadata": {},
   "source": [
    "### Random Forest"
   ]
  },
  {
   "cell_type": "code",
   "execution_count": null,
   "metadata": {},
   "outputs": [],
   "source": [
    "#Fitting the model\n",
    "rf_estimator = RandomForestClassifier(random_state=1)\n",
    "rf_estimator.fit(X_train_scaled_df,y_train)\n",
    "score_list_rf=get_metrics_score(rf_estimator,X_train_scaled_df,X_test_scaled,y_train,y_test)"
   ]
  },
  {
   "cell_type": "code",
   "execution_count": null,
   "metadata": {},
   "outputs": [],
   "source": [
    "add_score_model(score_list_rf)"
   ]
  },
  {
   "cell_type": "markdown",
   "metadata": {},
   "source": [
    "* Random forest is overfitting the training data as there is huge disparity between training and test scores for all the metrics.\n",
    "* The test recall is even lower than the decision tree but has a higher test precision."
   ]
  },
  {
   "cell_type": "markdown",
   "metadata": {},
   "source": [
    "### Bagging Classifier"
   ]
  },
  {
   "cell_type": "code",
   "execution_count": null,
   "metadata": {},
   "outputs": [],
   "source": [
    "#Fitting the model\n",
    "bagging_classifier = BaggingClassifier(random_state=1)\n",
    "bagging_classifier.fit(X_train_scaled_df,y_train)\n",
    "\n",
    "score_list_bc=get_metrics_score(bagging_classifier,X_train_scaled_df,X_test_scaled_df,y_train,y_test)"
   ]
  },
  {
   "cell_type": "code",
   "execution_count": null,
   "metadata": {},
   "outputs": [],
   "source": [
    "add_score_model(score_list_bc)"
   ]
  },
  {
   "cell_type": "markdown",
   "metadata": {},
   "source": [
    "* Bagging classifier giving similar performance as random forest.\n",
    "* It is also overfitting the training data and lower test recall than decision trees."
   ]
  },
  {
   "cell_type": "markdown",
   "metadata": {},
   "source": [
    "### Tuning Decision Tree"
   ]
  },
  {
   "cell_type": "markdown",
   "metadata": {},
   "source": [
    "**Hyperparameter tuning**\n",
    "\n",
    "**max_depth:**The maximum depth of the tree. If None, then nodes are expanded until all leaves are pure or until all leaves contain less than min_samples_split samples.\n",
    "\n",
    "**min_samples_leaf:**The minimum number of samples required to be at a leaf node.\n",
    "\n",
    "**max_leaf_nodes:** Grow a tree with max_leaf_nodes in best-first fashion. Best nodes are defined as relative reduction in impurity. If None then unlimited number of leaf nodes.\n",
    "\n",
    "**min_impurity_decrease:**A node will be split if this split induces a decrease of the impurity greater than or equal to this value.\n",
    "\n"
   ]
  },
  {
   "cell_type": "code",
   "execution_count": null,
   "metadata": {},
   "outputs": [],
   "source": [
    "#Choose the type of classifier. \n",
    "dtree_estimator = DecisionTreeClassifier(class_weight={0:0.40,1:0.60},random_state=1)\n",
    "\n",
    "# Grid of parameters to choose from\n",
    "parameters = {'max_depth': [None], \n",
    "              'min_samples_leaf': [10, 7, 5],\n",
    "              'max_leaf_nodes' : [ 5,7, 10],\n",
    "              'min_impurity_decrease': [0.001,0.01,0.1]\n",
    "             }\n",
    "\n",
    "# Type of scoring used to compare parameter combinations\n",
    "scorer = metrics.make_scorer(metrics.recall_score)\n",
    "\n",
    "# Run the grid search\n",
    "grid_obj = GridSearchCV(dtree_estimator, parameters, scoring=scorer,n_jobs=-1)\n",
    "grid_obj = grid_obj.fit(X_train_scaled_df, y_train)\n",
    "\n",
    "# Set the clf to the best combination of parameters\n",
    "dtree_estimator = grid_obj.best_estimator_\n",
    "\n",
    "# Fit the best algorithm to the data. \n",
    "dtree_estimator.fit(X_train_scaled_df, y_train)"
   ]
  },
  {
   "cell_type": "code",
   "execution_count": null,
   "metadata": {},
   "outputs": [],
   "source": [
    "score_tune_dt=get_metrics_score(dtree_estimator,X_train_scaled_df,X_test_scaled_df,y_train,y_test)"
   ]
  },
  {
   "cell_type": "code",
   "execution_count": null,
   "metadata": {},
   "outputs": [],
   "source": [
    "add_score_model(score_tune_dt)"
   ]
  },
  {
   "cell_type": "markdown",
   "metadata": {},
   "source": [
    "* The test recall has increased to 75 and the decision tree is giving a generalized performance.\n",
    "* The confusion matrix shows that false negative cases are decreased."
   ]
  },
  {
   "cell_type": "markdown",
   "metadata": {},
   "source": [
    "### Tuning Random Forest"
   ]
  },
  {
   "cell_type": "markdown",
   "metadata": {},
   "source": [
    "**n_estimators:** The number of trees in the forest.\n",
    "\n",
    "**max_depth:** The maximum depth of the tree. If None, then nodes are expanded until all leaves are pure or until all leaves contain less than min_samples_split samples\n",
    "\n",
    "**min_samples_leaf:** The minimum number of samples required to be at a leaf node.\n",
    "\n",
    "**max_features:** The number of features to consider when looking for the best split\n",
    "If int, then consider max_features features at each split.\n",
    "If float, then max_features is a fraction and round(max_features * n_features) features are considered at each split.\n",
    "If “auto”, then max_features=sqrt(n_features).\n",
    "If “sqrt”, then max_features=sqrt(n_features) (same as “auto”).\n",
    "If “log2”, then max_features=log2(n_features).\n",
    "If None, then max_features=n_features.\n",
    "\n",
    "**max_samples:** If bootstrap is True, the number of samples to draw from X to train each base estimator.\n",
    "\n",
    "\n"
   ]
  },
  {
   "cell_type": "code",
   "execution_count": null,
   "metadata": {},
   "outputs": [],
   "source": [
    "# Choose the type of classifier. \n",
    "rf_tuned = RandomForestClassifier(class_weight={0:0.35,1:0.65},random_state=1)\n",
    "\n",
    "parameters = { \"max_depth\":[None],\n",
    "              \"n_estimators\": [150,200,250,500],\n",
    "    \"min_samples_leaf\": np.arange(5, 10),\n",
    "    \"max_features\": ['auto'],\n",
    "    \"max_samples\": np.arange(0.3,0.5, 0.7)\n",
    "}\n",
    "\n",
    "\n",
    "# Type of scoring used to compare parameter combinations\n",
    "scorer = metrics.make_scorer(metrics.recall_score)\n",
    "\n",
    "# Run the grid search\n",
    "grid_obj = GridSearchCV(rf_tuned, parameters, scoring=scorer,cv=5,n_jobs=-1)\n",
    "grid_obj = grid_obj.fit(X_train_scaled_df, y_train)\n",
    "\n",
    "# Set the clf to the best combination of parameters\n",
    "rf_tuned = grid_obj.best_estimator_\n",
    "\n",
    "# Fit the best algorithm to the data. \n",
    "rf_tuned.fit(X_train_scaled_df, y_train)"
   ]
  },
  {
   "cell_type": "code",
   "execution_count": null,
   "metadata": {},
   "outputs": [],
   "source": [
    "score_tune_rt=get_metrics_score(rf_tuned,X_train_scaled_df,X_test_scaled_df,y_train,y_test)"
   ]
  },
  {
   "cell_type": "markdown",
   "metadata": {},
   "source": [
    "* The test recall has increased significantly after hyperparameter tuning but the  model is still overfitting the training data.\n",
    "* The confusion matrix shows that the model is able to identify majority of patients who are at risk of diabetes."
   ]
  },
  {
   "cell_type": "code",
   "execution_count": null,
   "metadata": {},
   "outputs": [],
   "source": [
    "add_score_model(score_tune_rt)"
   ]
  },
  {
   "cell_type": "markdown",
   "metadata": {},
   "source": [
    "### Tuning Bagging Classifier"
   ]
  },
  {
   "cell_type": "code",
   "execution_count": null,
   "metadata": {},
   "outputs": [],
   "source": [
    "# Choose the type of classifier. \n",
    "bagging_estimator_tuned = BaggingClassifier(random_state=1)\n",
    "\n",
    "# Grid of parameters to choose from\n",
    "parameters = {'max_samples': [0.7,0.8,0.9,1], \n",
    "              'max_features': [0.7,0.8,0.9,1],\n",
    "              'n_estimators' : [10,20,30,40,50,90],\n",
    "             }\n",
    "\n",
    "# Type of scoring used to compare parameter combinations\n",
    "acc_scorer = metrics.make_scorer(metrics.recall_score)\n",
    "\n",
    "# Run the grid search\n",
    "grid_obj = GridSearchCV(bagging_estimator_tuned, parameters, scoring=acc_scorer,cv=5)\n",
    "grid_obj = grid_obj.fit(X_train_scaled_df, y_train)\n",
    "\n",
    "# Set the clf to the best combination of parameters\n",
    "bagging_estimator_tuned = grid_obj.best_estimator_\n",
    "\n",
    "# Fit the best algorithm to the data.\n",
    "bagging_estimator_tuned.fit(X_train_scaled_df, y_train)"
   ]
  },
  {
   "cell_type": "code",
   "execution_count": null,
   "metadata": {},
   "outputs": [],
   "source": [
    "score_tune_bg=get_metrics_score(bagging_estimator_tuned,X_train_scaled_df,X_test_scaled_df,y_train,y_test)"
   ]
  },
  {
   "cell_type": "markdown",
   "metadata": {},
   "source": [
    "* Surprisingly, the test recall has decreased after hyperparameter tuning and the  model is still overfitting the training data.\n",
    "* The confusion matrix shows that the model predicted 37 false negative patients"
   ]
  },
  {
   "cell_type": "code",
   "execution_count": null,
   "metadata": {},
   "outputs": [],
   "source": [
    "add_score_model(score_tune_bg)"
   ]
  },
  {
   "cell_type": "code",
   "execution_count": null,
   "metadata": {},
   "outputs": [],
   "source": [
    "from sklearn.svm import SVC\n",
    "SVC_Classifier=SVC()\n",
    "SVC_Classifier.fit(X_train_scaled_df,y_train)\n",
    "score_svc=get_metrics_score(SVC_Classifier,X_train_scaled_df,X_test_scaled_df,y_train,y_test)\n",
    "add_score_model(score_svc)"
   ]
  },
  {
   "cell_type": "markdown",
   "metadata": {},
   "source": [
    "## Comparing all the models"
   ]
  },
  {
   "cell_type": "code",
   "execution_count": null,
   "metadata": {},
   "outputs": [],
   "source": [
    "comparison_frame = pd.DataFrame({'Model':['Decision Tree',\n",
    "                                          'Random Forest',\n",
    "                                          'Bagging Classifier',\n",
    "                                          'Tuned Decision Tree',\n",
    "                                          'Tuned Random Forest',\n",
    "                                          'Bagging Classifier Tuned','SVC'], \n",
    "                                          'Train_Accuracy': acc_train,'Test_Accuracy': acc_test,\n",
    "                                          'Train_Recall':recall_train,'Test_Recall':recall_test,\n",
    "                                          'Train_Precision':precision_train,'Test_Precision':precision_test}) \n",
    "\n",
    "#Sorting models in decreasing order of test recall\n",
    "comparison_frame.sort_values(by='Test_Recall',ascending=False)"
   ]
  },
  {
   "cell_type": "markdown",
   "metadata": {},
   "source": [
    "* Tuned decision tree is the best model for our data as it has the highest test recall and giving a generalized performance as compared to other models.False negative cases are 20."
   ]
  },
  {
   "cell_type": "markdown",
   "metadata": {},
   "source": [
    "### Feature importance of tuned decision tree"
   ]
  },
  {
   "cell_type": "code",
   "execution_count": null,
   "metadata": {},
   "outputs": [],
   "source": [
    "feature_names = list(X_train.columns)\n",
    "plt.figure(figsize=(20,15))\n",
    "from sklearn import tree\n",
    "from sklearn.model_selection import GridSearchCV\n",
    "out = tree.plot_tree(dtree_estimator,feature_names=feature_names,filled=True,fontsize=9,node_ids=True,class_names=True)\n",
    "for o in out:\n",
    "     arrow = o.arrow_patch\n",
    "     if arrow is not None:\n",
    "        arrow.set_edgecolor('black')\n",
    "        arrow.set_linewidth(1)\n",
    "plt.show()"
   ]
  },
  {
   "cell_type": "code",
   "execution_count": null,
   "metadata": {
    "scrolled": true
   },
   "outputs": [],
   "source": [
    "# Text report showing the rules of a decision tree -\n",
    "feature_names = list(X_train.columns)\n",
    "print(tree.export_text(dtree_estimator,feature_names=feature_names,show_weights=True))"
   ]
  },
  {
   "cell_type": "code",
   "execution_count": null,
   "metadata": {
    "id": "U7sE1kpqxLQW",
    "outputId": "71aa0d79-d32c-4288-ff74-f930c831622d"
   },
   "outputs": [],
   "source": [
    "feature_names = X_train.columns\n",
    "importances = dtree_estimator.feature_importances_\n",
    "indices = np.argsort(importances)\n",
    "\n",
    "plt.figure(figsize=(12,8))\n",
    "plt.title('Feature Importances')\n",
    "plt.barh(range(len(indices)), importances[indices], color='violet', align='center')\n",
    "plt.yticks(range(len(indices)), [feature_names[i] for i in indices])\n",
    "plt.xlabel('Relative Importance')\n",
    "plt.show()"
   ]
  },
  {
   "cell_type": "markdown",
   "metadata": {},
   "source": [
    "* We can see that Glucose concentration is the most important feature followed by Age and BMI.\n",
    "* The tuned decision tree is using only three variable to separate the two classes. "
   ]
  },
  {
   "cell_type": "markdown",
   "metadata": {},
   "source": [
    "## Misclassification Analysis"
   ]
  },
  {
   "cell_type": "code",
   "execution_count": null,
   "metadata": {},
   "outputs": [],
   "source": [
    "y_pred = dtree_estimator.predict(X_test_scaled_df)\n",
    "make_confusion_matrix(y_test,y_pred,\"confusion matrix on test\")\n",
    "misclass_df = X_test.copy()\n",
    "misclass_df['Actual']=y_test\n",
    "misclass_df['Predicted'] = y_pred\n"
   ]
  },
  {
   "cell_type": "code",
   "execution_count": null,
   "metadata": {},
   "outputs": [],
   "source": [
    "plt.pie(data=misclass_df,x=misclass_df[\"Actual\"].value_counts(),autopct='%1.1f%%')"
   ]
  },
  {
   "cell_type": "code",
   "execution_count": null,
   "metadata": {},
   "outputs": [],
   "source": [
    "plt.pie(data=misclass_df,x=misclass_df[\"Predicted\"].value_counts(),autopct='%1.1f%%')"
   ]
  },
  {
   "cell_type": "markdown",
   "metadata": {
    "execution": {
     "iopub.execute_input": "2021-06-05T09:07:58.559511Z",
     "iopub.status.busy": "2021-06-05T09:07:58.559045Z",
     "iopub.status.idle": "2021-06-05T09:07:58.565854Z",
     "shell.execute_reply": "2021-06-05T09:07:58.564284Z",
     "shell.execute_reply.started": "2021-06-05T09:07:58.559473Z"
    }
   },
   "source": [
    "Percentage of value predicted by our model close to the actual values. Lets find out False Negative and False Positive observations"
   ]
  },
  {
   "cell_type": "code",
   "execution_count": null,
   "metadata": {},
   "outputs": [],
   "source": [
    "pd.crosstab(misclass_df['Predicted'],misclass_df['Actual'],margins=True)"
   ]
  },
  {
   "cell_type": "code",
   "execution_count": null,
   "metadata": {},
   "outputs": [],
   "source": [
    "# Rows that were classified as Negative when they were actually positive\n",
    "fn_rows = misclass_df[(misclass_df['Actual'] == 1) & (misclass_df['Predicted'] == 0)]\n",
    "False_negative= data[data.index.isin(fn_rows.index.values)].copy()\n",
    "False_negative.sort_values(by=['Glucose','Age','BMI'])"
   ]
  },
  {
   "cell_type": "markdown",
   "metadata": {},
   "source": [
    "Model was not able to predict correctly `13` patients whose glucose levels were less than 127 but either there BMI was high or Age.`7` patients who glucose concentration was high but BMI was low were also predicted incorrectly."
   ]
  },
  {
   "cell_type": "markdown",
   "metadata": {},
   "source": [
    "## Conclusion\n",
    "* Glucose, Age, and BMI are the most important factors in identifying persons who are at risk of diabetes. Other variables' importance is not significant. \n",
    "* Identifying the risk of diabetes at early stages, especially among pregnant women, can help to control the disease and prevent the second health problems.\n",
    "* As per the decision tree We can have Profile for women\n",
    "    - `Lower Risk Women` :Glucose level <=127 ,Age <=28.\n",
    "    - `Higher Risk Women`:Glucose level >100 ,Age >28 /BMI> 28.5\n",
    "    \n",
    "    But as per the patterns we see in misclassfied data.Our model is unable to find those case when Age or BMI plays major role than Glucose concentration.\n",
    "    So Glucose ,Age and BMI should be  given equal importance in identifying high risk patients.\n",
    " * Need to further explore if any other algorthims or more hypertuning parameters help in improving the accuracy of the model along with recall.\n",
    " \n",
    " ## Recommendation\n",
    "  Depending on the patients profile following recommendation to patients can prevent them from getting diabetes.\n",
    "* Middle aged to older women have a higher risk of diabetes. They should keep the glucose level in check and take proper precautions.\n",
    "* Overweight women have a higher risk of diabetes. They should keep the glucose level in check and exercise regularly. \n"
   ]
  }
 ],
 "metadata": {
  "kernelspec": {
   "display_name": "Python 3",
   "language": "python",
   "name": "python3"
  },
  "language_info": {
   "codemirror_mode": {
    "name": "ipython",
    "version": 3
   },
   "file_extension": ".py",
   "mimetype": "text/x-python",
   "name": "python",
   "nbconvert_exporter": "python",
   "pygments_lexer": "ipython3",
   "version": "3.8.8"
  }
 },
 "nbformat": 4,
 "nbformat_minor": 4
}
